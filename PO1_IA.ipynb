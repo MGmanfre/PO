{
  "nbformat": 4,
  "nbformat_minor": 0,
  "metadata": {
    "colab": {
      "provenance": []
    },
    "kernelspec": {
      "name": "python3",
      "display_name": "Python 3"
    },
    "language_info": {
      "name": "python"
    }
  },
  "cells": [
    {
      "cell_type": "code",
      "source": [
        "#Miguel Manfré Ribeiro Garcia - 22011016 - 2°A - IA\n",
        "\n",
        "import requests\n",
        "from datetime import datetime\n",
        "\n",
        "url = \"https://api.openweathermap.org/data/2.5/weather?lat=-22.5133&lon=-48.7360&appid=6fece2956a27a28bfc764e51550c2e48\"\n",
        "\n",
        "r = requests.get(url)\n",
        "\n",
        "if r.status_code == 200:\n",
        "    temp = r.json()\n",
        "    cidade = temp[\"main\"][\"temp\"]\n",
        "    TempC=cidade-273\n",
        "    hojeE = datetime.now()\n",
        "    hojeP = hojeE.strftime('%d-%m-%Y')\n",
        "    print(f\"A temperatura de Macatuba ({hojeP}) é de {round(TempC)}°C.\")\n",
        "else:\n",
        "    print('Não foi possível obter a resposta da API.')\n"
      ],
      "metadata": {
        "colab": {
          "base_uri": "https://localhost:8080/"
        },
        "id": "K5EzU1z84Sb4",
        "outputId": "de19d871-29bf-4e0d-b4f0-203d1d5c465d"
      },
      "execution_count": 41,
      "outputs": [
        {
          "output_type": "stream",
          "name": "stdout",
          "text": [
            "A temperatura de Macatuba (19-04-2023) é de 25°C.\n"
          ]
        }
      ]
    }
  ]
}